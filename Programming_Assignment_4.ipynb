{
 "cells": [
  {
   "cell_type": "code",
   "execution_count": null,
   "metadata": {},
   "outputs": [],
   "source": [
    "#Answer : 1\n",
    "import math\n",
    "\n",
    "inputNum = input(\"Enter number \")\n",
    "Fact = math.factorial(int(inputNumm))\n",
    "print(\"The Factorial of {0} is {1}\".format(inputNum,Fact))\n"
   ]
  },
  {
   "cell_type": "code",
   "execution_count": 3,
   "metadata": {},
   "outputs": [
    {
     "name": "stdout",
     "output_type": "stream",
     "text": [
      "Enter Tabel number 19\n",
      "19 * 1 = 19\n",
      "19 * 2 = 38\n",
      "19 * 3 = 57\n",
      "19 * 4 = 76\n",
      "19 * 5 = 95\n",
      "19 * 6 = 114\n",
      "19 * 7 = 133\n",
      "19 * 8 = 152\n",
      "19 * 9 = 171\n",
      "19 * 10 = 190\n"
     ]
    }
   ],
   "source": [
    "#Answer : 2\n",
    "inputNum = input(\"Enter Tabel number \")\n",
    "for i in range(1,11):\n",
    "    print(\"{0} * {1} = {2}\".format(inputNum,i,str(int(inputNum)*i)))\n"
   ]
  },
  {
   "cell_type": "code",
   "execution_count": 25,
   "metadata": {},
   "outputs": [
    {
     "name": "stdout",
     "output_type": "stream",
     "text": [
      "Enter number for Fibonacci Squence 20\n"
     ]
    },
    {
     "data": {
      "text/plain": [
       "[0,\n",
       " 1,\n",
       " 1,\n",
       " 2,\n",
       " 3,\n",
       " 5,\n",
       " 8,\n",
       " 13,\n",
       " 21,\n",
       " 34,\n",
       " 55,\n",
       " 89,\n",
       " 144,\n",
       " 233,\n",
       " 377,\n",
       " 610,\n",
       " 987,\n",
       " 1597,\n",
       " 2584,\n",
       " 4181]"
      ]
     },
     "execution_count": 25,
     "metadata": {},
     "output_type": "execute_result"
    }
   ],
   "source": [
    "#Answer : 3\n",
    "inputNum = int(input(\"Enter number for Fibonacci Squence \"))\n",
    "ls = []\n",
    "for i in range(0,inputNum):\n",
    "    if len(ls)<2:\n",
    "        \n",
    "        ls.append(i)\n",
    "    else:\n",
    "        ls.append(ls[i-1]+ls[i-2])\n",
    "ls"
   ]
  },
  {
   "cell_type": "code",
   "execution_count": 9,
   "metadata": {},
   "outputs": [
    {
     "data": {
      "text/plain": [
       "1"
      ]
     },
     "execution_count": 9,
     "metadata": {},
     "output_type": "execute_result"
    }
   ],
   "source": [
    "ls= [0,1,2]\n",
    "ls[1]"
   ]
  },
  {
   "cell_type": "code",
   "execution_count": 53,
   "metadata": {},
   "outputs": [
    {
     "name": "stdout",
     "output_type": "stream",
     "text": [
      "Enter Number for Armstrong Number123\n"
     ]
    },
    {
     "data": {
      "text/plain": [
       "36"
      ]
     },
     "execution_count": 53,
     "metadata": {},
     "output_type": "execute_result"
    }
   ],
   "source": [
    "#Answer :4 \n",
    "\n",
    "inputNum = input(\"Enter Number for Armstrong Number\")\n",
    "splitNum = list(inputNum)\n",
    "Armstrong= 0\n",
    "for x in splitNum:\n",
    "    \n",
    "    Armstrong = Armstrong+ (int(x)**3)\n",
    "Armstrong"
   ]
  },
  {
   "cell_type": "code",
   "execution_count": 57,
   "metadata": {},
   "outputs": [
    {
     "name": "stdout",
     "output_type": "stream",
     "text": [
      "153\n",
      "370\n",
      "371\n",
      "407\n"
     ]
    }
   ],
   "source": [
    "#Answer :5\n",
    "for i in range(100,1000):\n",
    "    splitNum = list(str(i))\n",
    "    Armstrong=0\n",
    "    for x in splitNum:\n",
    "          Armstrong = Armstrong+ (int(x)**3)\n",
    "    if Armstrong == i:\n",
    "        print(Armstrong)\n",
    "    \n",
    "        "
   ]
  },
  {
   "cell_type": "code",
   "execution_count": 59,
   "metadata": {},
   "outputs": [
    {
     "name": "stdout",
     "output_type": "stream",
     "text": [
      "Enter Number 6\n"
     ]
    },
    {
     "data": {
      "text/plain": [
       "21"
      ]
     },
     "execution_count": 59,
     "metadata": {},
     "output_type": "execute_result"
    }
   ],
   "source": [
    "#Answer : 6\n",
    "inputNum = int(input(\"Enter Number \"))\n",
    "SumofNatural = inputNum*(inputNum+1)//2\n",
    "SumofNatural\n"
   ]
  },
  {
   "cell_type": "code",
   "execution_count": null,
   "metadata": {},
   "outputs": [],
   "source": []
  }
 ],
 "metadata": {
  "kernelspec": {
   "display_name": "Python 3",
   "language": "python",
   "name": "python3"
  },
  "language_info": {
   "codemirror_mode": {
    "name": "ipython",
    "version": 3
   },
   "file_extension": ".py",
   "mimetype": "text/x-python",
   "name": "python",
   "nbconvert_exporter": "python",
   "pygments_lexer": "ipython3",
   "version": "3.8.5"
  }
 },
 "nbformat": 4,
 "nbformat_minor": 4
}
