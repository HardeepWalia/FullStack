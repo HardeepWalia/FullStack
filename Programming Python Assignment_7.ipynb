{
 "cells": [
  {
   "cell_type": "code",
   "execution_count": 6,
   "metadata": {},
   "outputs": [
    {
     "data": {
      "text/plain": [
       "10"
      ]
     },
     "execution_count": 6,
     "metadata": {},
     "output_type": "execute_result"
    }
   ],
   "source": [
    "#Answer : 1\n",
    "def SumofList(*args):\n",
    "    Sum =0\n",
    "    for x in list(args):\n",
    "        Sum=Sum+int(x)\n",
    "    return Sum\n",
    "SumofList(1,2,3,4)"
   ]
  },
  {
   "cell_type": "code",
   "execution_count": 12,
   "metadata": {},
   "outputs": [
    {
     "data": {
      "text/plain": [
       "9"
      ]
     },
     "execution_count": 12,
     "metadata": {},
     "output_type": "execute_result"
    }
   ],
   "source": [
    "#Answer : 2\n",
    "def FindMaxValue(*args):\n",
    "    return max(list(args))\n",
    "FindMaxValue(1,2,6,7,9)"
   ]
  },
  {
   "cell_type": "code",
   "execution_count": 37,
   "metadata": {},
   "outputs": [
    {
     "name": "stdout",
     "output_type": "stream",
     "text": [
      "Enter index for rotate : 5\n"
     ]
    },
    {
     "data": {
      "text/plain": [
       "[6, 7, 8, 9, 10, 11, 12, 1, 2, 3, 4, 5]"
      ]
     },
     "execution_count": 37,
     "metadata": {},
     "output_type": "execute_result"
    }
   ],
   "source": [
    "#Answer : 3\n",
    "index = int(input(\"Enter index for rotate : \"))\n",
    "def Rotate(*args):\n",
    "    if len(list(args))>index:\n",
    "        lst = list(args)\n",
    "        lst = lst[index:]\n",
    "        newIndx = (len(args)-1)-(len(lst)-1)        \n",
    "        lst.extend(list(args)[:newIndx])\n",
    "        return lst\n",
    "    else:\n",
    "           return print(\"Index out of range\")\n",
    "    \n",
    "Rotate(1,2,3,4,5,6,7,8,9,10,11,12)\n",
    "\n",
    "    "
   ]
  },
  {
   "cell_type": "code",
   "execution_count": 57,
   "metadata": {},
   "outputs": [
    {
     "data": {
      "text/plain": [
       "[4, 5, 6, 1, 2, 3]"
      ]
     },
     "execution_count": 57,
     "metadata": {},
     "output_type": "execute_result"
    }
   ],
   "source": [
    "#Answer :4\n",
    "def SplitArray(arr,Position):\n",
    "    lst = list(arr)\n",
    "    splitlst = lst[Position:]\n",
    "    splitlst.extend(lst[:Position])\n",
    "    return splitlst\n",
    "SplitArray([1,2,3,4,5,6],3)"
   ]
  },
  {
   "cell_type": "code",
   "execution_count": 75,
   "metadata": {},
   "outputs": [
    {
     "name": "stdout",
     "output_type": "stream",
     "text": [
      "Given array is Monotonic\n"
     ]
    }
   ],
   "source": [
    "#Answer : 5\n",
    "def MonotonicFun(*args):\n",
    "    lst = list(args)\n",
    "    status = \"Monotonic\"\n",
    "    for x in range(len(lst)):\n",
    "        if (len(lst)>x+1):\n",
    "            \n",
    "            if x>0 and (lst[x-1]!= int(lst[x]-1)or lst[x+1]!= int(lst[x]+1)):\n",
    "                status = \"Not Monotonic\"\n",
    "                break\n",
    "            else:\n",
    "                status = \"Monotonic\"\n",
    "            \n",
    "    return print(\"Given array is {0}\".format(status))\n",
    "    \n",
    "MonotonicFun(1,2,3,4,5)"
   ]
  },
  {
   "cell_type": "code",
   "execution_count": null,
   "metadata": {},
   "outputs": [],
   "source": []
  }
 ],
 "metadata": {
  "kernelspec": {
   "display_name": "Python 3",
   "language": "python",
   "name": "python3"
  },
  "language_info": {
   "codemirror_mode": {
    "name": "ipython",
    "version": 3
   },
   "file_extension": ".py",
   "mimetype": "text/x-python",
   "name": "python",
   "nbconvert_exporter": "python",
   "pygments_lexer": "ipython3",
   "version": "3.8.5"
  }
 },
 "nbformat": 4,
 "nbformat_minor": 4
}
