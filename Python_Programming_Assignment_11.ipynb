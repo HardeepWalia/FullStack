{
 "cells": [
  {
   "cell_type": "code",
   "execution_count": 27,
   "metadata": {},
   "outputs": [
    {
     "name": "stdout",
     "output_type": "stream",
     "text": [
      "first python Programe\n"
     ]
    }
   ],
   "source": [
    "#1. Write a Python program to find words which are greater than given length k?\n",
    "\n",
    "def CheckLength(*args):\n",
    "    \n",
    "    Str = args[0]\n",
    "    length = int(args[1])\n",
    "    ls =  Str.split(\" \")\n",
    "    st = \" \".join(filter(lambda x: len(x)>length, ls))\n",
    "    print(st)\n",
    "CheckLength(\"This is my first python Programe\",4)"
   ]
  },
  {
   "cell_type": "code",
   "execution_count": 64,
   "metadata": {},
   "outputs": [
    {
     "name": "stdout",
     "output_type": "stream",
     "text": [
      "Thi is my first python Programe\n"
     ]
    }
   ],
   "source": [
    "#2 Write a Python program for removing i-th character from a string?\n",
    "\n",
    "def remove(*args):\n",
    "    Str = args[0]\n",
    "    indx = int(args[1])\n",
    "    reslt =  Str[:indx-1]+\" \"+Str[indx+1:]\n",
    "    print(reslt)\n",
    "remove(\"This is my first python Programe\",4)"
   ]
  },
  {
   "cell_type": "code",
   "execution_count": 68,
   "metadata": {},
   "outputs": [
    {
     "name": "stdout",
     "output_type": "stream",
     "text": [
      "This is my first python Programe\n"
     ]
    }
   ],
   "source": [
    "#3 Write a Python program to split and join a string?\n",
    "\n",
    "def Split(*args):\n",
    "    splt = args[0].split(\" \")\n",
    "    st = \" \".join(map(lambda x : x,splt))\n",
    "    print(st)\n",
    "Split(\"This is my first python Programe\")"
   ]
  },
  {
   "cell_type": "code",
   "execution_count": 98,
   "metadata": {},
   "outputs": [
    {
     "name": "stdout",
     "output_type": "stream",
     "text": [
      "binary\n"
     ]
    }
   ],
   "source": [
    "#4 Write a Python to check if a given string is binary string or not?\n",
    "def Chkbinry(Str):\n",
    "    binary = {'0','1'}\n",
    "    Strset = set(str(Str))\n",
    "    if(binary ==Strset or Strset=={'0'}or Strset=={'1'}): \n",
    "        print(\"binary\")\n",
    "    else:\n",
    "        print(\"Not binary\")\n",
    "    \n",
    "Chkbinry('101010')\n",
    "    "
   ]
  },
  {
   "cell_type": "code",
   "execution_count": 110,
   "metadata": {},
   "outputs": [
    {
     "data": {
      "text/plain": [
       "'this my first demo'"
      ]
     },
     "execution_count": 110,
     "metadata": {},
     "output_type": "execute_result"
    }
   ],
   "source": [
    "#5 Write a Python program to find uncommon words from two Strings?\n",
    "def  uncommon(*args):\n",
    "    str1 = args[0].split(\" \")\n",
    "    str2 = args[1].split(\" \")\n",
    "    return \" \".join(filter(lambda x: (False==args[1].__contains__(x)),str1))\n",
    "uncommon('this is my first demo','that is true')"
   ]
  },
  {
   "cell_type": "code",
   "execution_count": 128,
   "metadata": {},
   "outputs": [
    {
     "data": {
      "text/plain": [
       "{'course'}"
      ]
     },
     "execution_count": 128,
     "metadata": {},
     "output_type": "execute_result"
    }
   ],
   "source": [
    "#6 write python to find all duplicate characters in string?\n",
    "def duplicateChar(string):\n",
    "    stn = string.split(\" \")\n",
    "    st = set([x for x in stn if stn.count(x)>1])\n",
    "    return st\n",
    "duplicateChar(\"this is my first course in datascience course\")"
   ]
  },
  {
   "cell_type": "code",
   "execution_count": 130,
   "metadata": {},
   "outputs": [
    {
     "name": "stdout",
     "output_type": "stream",
     "text": [
      "No special charater in string\n"
     ]
    }
   ],
   "source": [
    "#7 write a python program to check if a string has any special charater\n",
    "import re\n",
    "def checkspclChar(strr):\n",
    "    regx = re.compile('[@_!#$%^&*()<>?/\\|}{~:]')\n",
    "    if(regx.search(strr)) :\n",
    "        print(\"Has Special charater in string\")\n",
    "    else:\n",
    "        print(\"No special charater in string\")\n",
    "checkspclChar(\"this is my\")"
   ]
  },
  {
   "cell_type": "code",
   "execution_count": null,
   "metadata": {},
   "outputs": [],
   "source": []
  }
 ],
 "metadata": {
  "kernelspec": {
   "display_name": "Python 3",
   "language": "python",
   "name": "python3"
  },
  "language_info": {
   "codemirror_mode": {
    "name": "ipython",
    "version": 3
   },
   "file_extension": ".py",
   "mimetype": "text/x-python",
   "name": "python",
   "nbconvert_exporter": "python",
   "pygments_lexer": "ipython3",
   "version": "3.8.5"
  }
 },
 "nbformat": 4,
 "nbformat_minor": 4
}
