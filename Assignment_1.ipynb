{
 "cells": [
  {
   "cell_type": "code",
   "execution_count": 1,
   "metadata": {},
   "outputs": [],
   "source": [
    "#Answer: 1\n",
    "# *  -expression : expression\n",
    "# 'hello' -string : Value\n",
    "# -87.8 -integer : Value\n",
    "# - -expression : expression\n",
    "# / -division : expression\n",
    "# +-addition : expression\n",
    "# 6 -integer :Value"
   ]
  },
  {
   "cell_type": "code",
   "execution_count": 2,
   "metadata": {},
   "outputs": [],
   "source": [
    "# Answer: 2\n",
    "# 'spam':- 'spam' is a string datatype in python , which is a reference type data-type.\n",
    "#  spam:- spam is a Variable helps to hold a value in heap memory or stack memory. "
   ]
  },
  {
   "cell_type": "code",
   "execution_count": 3,
   "metadata": {},
   "outputs": [],
   "source": [
    "#Answer: 3\n",
    "# int : it's a integer datatye which helps to identify integer value. for instance x = 1, y =2\n",
    "# str : it's a string datatype which helps t identify and define string value. For instance a = \"Assignment1\"\n",
    "# float: it's a float datatye which helps to identify floating values and decimal value. b = 10.5"
   ]
  },
  {
   "cell_type": "code",
   "execution_count": 4,
   "metadata": {},
   "outputs": [
    {
     "data": {
      "text/plain": [
       "[0, 1, 2, 3, 4, 5, 6, 7, 8, 9]"
      ]
     },
     "execution_count": 4,
     "metadata": {},
     "output_type": "execute_result"
    }
   ],
   "source": [
    "#Answer : 4\n",
    "# Expression is a represenation of different conditional or non-conditional operation For Instance :\n",
    "[x for x in range(10)]"
   ]
  },
  {
   "cell_type": "code",
   "execution_count": 7,
   "metadata": {},
   "outputs": [
    {
     "data": {
      "text/plain": [
       "['odd', 'even', 'odd', 'even', 'odd', 'even', 'odd', 'even', 'odd', 'even']"
      ]
     },
     "execution_count": 7,
     "metadata": {},
     "output_type": "execute_result"
    }
   ],
   "source": [
    "#Answer : 5\n",
    "# Expression is a represenation of different conditional or non-conditional operation. where as statement is a set of or group of logcial and conditional statement.\n",
    "[x for x in range(10)] # Expression\n",
    "[\"odd\" if i%2 ==0 else \"even\" for i in range(10)] # Statement"
   ]
  },
  {
   "cell_type": "code",
   "execution_count": 10,
   "metadata": {},
   "outputs": [
    {
     "data": {
      "text/plain": [
       "21"
      ]
     },
     "execution_count": 10,
     "metadata": {},
     "output_type": "execute_result"
    }
   ],
   "source": [
    "#Answer : 6\n",
    "bacon = 20\n",
    "bacon+1\n",
    "#outPut : 21"
   ]
  },
  {
   "cell_type": "code",
   "execution_count": 12,
   "metadata": {},
   "outputs": [
    {
     "data": {
      "text/plain": [
       "'spamspamspam'"
      ]
     },
     "execution_count": 12,
     "metadata": {},
     "output_type": "execute_result"
    }
   ],
   "source": [
    "#Answer :7\n",
    "'spam' + 'spamspam'\n",
    "#output : 'spamspamspam'\n",
    "'spam'*3\n",
    "#output : 'spamspamspam'"
   ]
  },
  {
   "cell_type": "code",
   "execution_count": 13,
   "metadata": {},
   "outputs": [],
   "source": [
    "#Answer : 8\n",
    "# variable name always starts with character  for instance AssignmentName =\"FirstAssignment\", Assign_1 = \"Secondvariable\". \n",
    "# where as 100 is a integer value which we can't use as variable name in python."
   ]
  },
  {
   "cell_type": "code",
   "execution_count": 17,
   "metadata": {},
   "outputs": [
    {
     "data": {
      "text/plain": [
       "0"
      ]
     },
     "execution_count": 17,
     "metadata": {},
     "output_type": "execute_result"
    }
   ],
   "source": [
    "#Answer : 9\n",
    "# For integer value use int() function\n",
    "# For floating value use float() function\n",
    "# For string value use str() function\n"
   ]
  },
  {
   "cell_type": "code",
   "execution_count": 19,
   "metadata": {},
   "outputs": [
    {
     "data": {
      "text/plain": [
       "'I have eaten 99 burritos.'"
      ]
     },
     "execution_count": 19,
     "metadata": {},
     "output_type": "execute_result"
    }
   ],
   "source": [
    "#Answer : 10\n",
    "'I have eaten ' + 99 + ' burritos.' \n",
    "# The above expression will cause error because we can not concate string value with integer value without typecasting.\n",
    "#If you want to concate string value with integer value you need to convert integer value into string.\n",
    "'I have eaten ' + str(99) + ' burritos.' "
   ]
  },
  {
   "cell_type": "code",
   "execution_count": null,
   "metadata": {},
   "outputs": [],
   "source": []
  }
 ],
 "metadata": {
  "kernelspec": {
   "display_name": "Python 3",
   "language": "python",
   "name": "python3"
  },
  "language_info": {
   "codemirror_mode": {
    "name": "ipython",
    "version": 3
   },
   "file_extension": ".py",
   "mimetype": "text/x-python",
   "name": "python",
   "nbconvert_exporter": "python",
   "pygments_lexer": "ipython3",
   "version": "3.8.5"
  }
 },
 "nbformat": 4,
 "nbformat_minor": 4
}
