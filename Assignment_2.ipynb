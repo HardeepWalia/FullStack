{
 "cells": [
  {
   "cell_type": "code",
   "execution_count": null,
   "metadata": {},
   "outputs": [],
   "source": [
    "#Answer :1,\n",
    "    #There are two different Boolean data type's value True and False. Where 0 represnt a False and 1 represent a True.,\n",
    "    # For instance : -,\n",
    "x =0\n",
    "y =1\n",
    "if x==y: \n",
    "    print(\"This returns 1\")\n",
    "else:\n",
    "    print(\"This returns 0\")\n",
    "if x<y:\n",
    "    print(\"This returns 1\")\n",
    "else:\n",
    "    print(\"This returns 0\")\n"
   ]
  },
  {
   "cell_type": "code",
   "execution_count": null,
   "metadata": {},
   "outputs": [],
   "source": [
    "#Answer :2\n",
    "# There are three different boolean data type : AND, OR , NOT Operator."
   ]
  },
  {
   "cell_type": "code",
   "execution_count": 4,
   "metadata": {},
   "outputs": [
    {
     "name": "stdout",
     "output_type": "stream",
     "text": [
      "Operator1 and Operator2\n",
      "x and y :False\n",
      "x and x :True\n",
      "y and x :False\n",
      "y and y :False\n",
      "Operator1 or Operator2\n",
      "x or y :True\n",
      "x or x :True\n",
      "y or x :True\n",
      "y or y :False\n"
     ]
    }
   ],
   "source": [
    "#Answer : 3\n",
    "#Case :1 (Operator1 and Operator2)\n",
    "\n",
    "x= True\n",
    "y= False\n",
    "print(\"Operator1 and Operator2\")\n",
    "print(\"x and y :\" + str(x and y))\n",
    "print(\"x and x :\" + str(x and x))\n",
    "print(\"y and x :\" + str(y and x))\n",
    "print(\"y and y :\" + str(y and y))\n",
    "#Case :2 (Operator1 or Operator2)\n",
    "\n",
    "x= True\n",
    "y= False\n",
    "print(\"Operator1 or Operator2\")\n",
    "print(\"x or y :\" + str(x or y))\n",
    "print(\"x or x :\" + str(x or x))\n",
    "print(\"y or x :\" + str(y or x))\n",
    "print(\"y or y :\" + str(y or y))\n",
    "\n"
   ]
  },
  {
   "cell_type": "code",
   "execution_count": null,
   "metadata": {},
   "outputs": [],
   "source": [
    "#Answer :4\n",
    "#Case1: (5>4) and (3==5)\n",
    "(5>4) and (3==5)\n",
    "#output : False\n",
    "\n",
    "#Case2: not(5>4)\n",
    "not(5>4)\n",
    "#output : False\n",
    "\n",
    "#Case3: (5>4) or (3==5)\n",
    "(5>4) or (3==5)\n",
    "#output : True\n",
    "\n",
    "#case4: (True and True) and (True ==False)\n",
    "(True and True) and (True ==False)\n",
    "#output : False\n",
    "\n",
    "#case4: (not False) or (not True)\n",
    "(not False) or (not True)\n",
    "#output : True"
   ]
  },
  {
   "cell_type": "code",
   "execution_count": null,
   "metadata": {},
   "outputs": [],
   "source": [
    "#Answer :5\n",
    "# six different type of comparison operator:\n",
    "# x==y x>y x<yx!=y x>=y x<=y\n",
    "\n",
    "x = input(\"Enter x value: \")\n",
    "y= input(\"Enter y value: \")\n",
    "#Case 1 : x==y\n",
    "if x==y:\n",
    "    print(\"x is equal to y\")\n",
    "#Case 2 : x>y\n",
    "elif x>y:\n",
    "    print(\"X is greater than y\")\n",
    "#Case 3 : x<y\n",
    "elif x<y:\n",
    "    print(\"x is less than y\")\n",
    "#Case 4 : x!=y\n",
    "elif x!=y:\n",
    "    print(\"x is not equal to y\")\n",
    "#Case 5 : x>=y\n",
    "elif x>=y:\n",
    "    print(\"x is greater than or equal to y\")\n",
    "#Case 6 : x>=y\n",
    "elif x<=y:\n",
    "    print(\"x is less than or equal to y\")\n",
    "else:\n",
    "    print(\"Condition not matched\")"
   ]
  },
  {
   "cell_type": "code",
   "execution_count": null,
   "metadata": {},
   "outputs": [],
   "source": [
    "#Answer :6\n",
    "# Equal operator helps to compaire the values of two different variable For instance if x=10 and y =20 x==y \n",
    "#Case 1 : x==y\n",
    "x = input(\"Enter x value: \")\n",
    "y= input(\"Enter y value: \")\n",
    "if x==y:\n",
    "    print(\"True\")\n",
    "else:\n",
    "    print(\"False\")\n",
    "# Assignment Operator helps to assign the value into variable  For Instance X = 10 Y =10 Z = X+Y or Z+= 10\n",
    "#Case 1 : x==y\n",
    "x = int(input(\"Enter x value: \"))\n",
    "y= int(input(\"Enter y value: \"))\n",
    "z = x+y\n",
    "z+= 10\n",
    "print(\"z value: \"+str(z))"
   ]
  },
  {
   "cell_type": "code",
   "execution_count": null,
   "metadata": {},
   "outputs": [],
   "source": [
    "#Answer: 7\n",
    "# If you want to execute block of code on the basis of decision making statement then we use condition statement or condtional block.\n",
    "a=int(input(\"Enter a value \"))\n",
    "b= int(input(\"Enter b value \"))\n",
    "c= 0\n",
    "if b>a :\n",
    "    c = b-a\n",
    "else:\n",
    "    c= a+b\n",
    "print(\"C value \"+ str(c))"
   ]
  },
  {
   "cell_type": "code",
   "execution_count": null,
   "metadata": {},
   "outputs": [],
   "source": [
    "#Answer : 8\n",
    "# if spam value is equal to 10 then it will allow to print eggs and jump to different condition in same block where it's checking whether spam value is greater than 5.\n",
    "# if first condition is already satisfied then it will always allow to print eggs bacon spam spam. if first condition doesn't satisfied then it will print only spam.\n",
    "spam = int(input(\"Enter Spam value \"))\n",
    "if spam == 10:\n",
    "    print('eggs')\n",
    "    if spam > 5:\n",
    "        print('bacon')\n",
    "    else:\n",
    "        print('ham')\n",
    "    print('spam')\n",
    "print('spam')"
   ]
  },
  {
   "cell_type": "code",
   "execution_count": null,
   "metadata": {},
   "outputs": [],
   "source": [
    "#Answer : 9\n",
    "spam = int(input(\"Enter Spam value \"))\n",
    "if spam == 1:\n",
    "    print(\"Hello\")\n",
    "elif spam == 2:\n",
    "    print(\"Howdy\")\n",
    "elif spam == 3:\n",
    "    print(\"Salutations!\")\n",
    "else:\n",
    "    print(\"spam\")"
   ]
  },
  {
   "cell_type": "code",
   "execution_count": null,
   "metadata": {},
   "outputs": [],
   "source": [
    "#Answer : 10\n",
    "# Press Ctrl +C to come out from endless loop or use break keyword in script to break the loop"
   ]
  },
  {
   "cell_type": "code",
   "execution_count": null,
   "metadata": {},
   "outputs": [],
   "source": [
    "#Answer : 11\n",
    "# break keyword use to break the condition or loop  and continue keyword helps to skip the step and jump into the next-step\n",
    "i = int(input(\"Enter Value \"))\n",
    "for j in range(0,i):\n",
    "    if j ==3:\n",
    "        continue #skip the 3rd step\n",
    "    elif j>8:\n",
    "        break # break the for loop here\n",
    "    else:\n",
    "        print(j)\n",
    "    \n"
   ]
  },
  {
   "cell_type": "code",
   "execution_count": null,
   "metadata": {},
   "outputs": [],
   "source": [
    "#Answer : 12\n",
    "#range(10) : it defines that ranges start from 0th index upto 10th index. \n",
    "i =10\n",
    "print(\"Example of range(10)\")\n",
    "for i in range(10):\n",
    "    print(i)\n",
    "    \n",
    "#range(0,10): it defines that ranges  explicitly starts from 0th index till 10th index\n",
    "\n",
    "print(\"Example of range(0,10)\")\n",
    "for i in range(0,10):\n",
    "    print(i)\n",
    "#range(0,10,1):it defines that ranges explicitly starts from 0th index till 10th index and it will increase by 1\n",
    "print(\"Example of range(0,10,1)\")\n",
    "for i in range(0,10,1):\n",
    "    print(i)"
   ]
  },
  {
   "cell_type": "code",
   "execution_count": null,
   "metadata": {},
   "outputs": [],
   "source": [
    "#Answer :13\n",
    "# print number 1 to 10 using For loop\n",
    "print(\"For loop example\")\n",
    "for i in range(1,11):\n",
    "    print(i)\n",
    "\n",
    "# print number 1 to 10 using while loop\n",
    "print(\"while loop example\")\n",
    "j=1\n",
    "while j<=10:\n",
    "    print(j)\n",
    "    j = j+1"
   ]
  },
  {
   "cell_type": "code",
   "execution_count": 6,
   "metadata": {},
   "outputs": [],
   "source": [
    "#Answer : 14\n",
    "# spam.bacon() method\n"
   ]
  },
  {
   "cell_type": "code",
   "execution_count": null,
   "metadata": {},
   "outputs": [],
   "source": []
  }
 ],
 "metadata": {
  "kernelspec": {
   "display_name": "Python 3",
   "language": "python",
   "name": "python3"
  },
  "language_info": {
   "codemirror_mode": {
    "name": "ipython",
    "version": 3
   },
   "file_extension": ".py",
   "mimetype": "text/x-python",
   "name": "python",
   "nbconvert_exporter": "python",
   "pygments_lexer": "ipython3",
   "version": "3.8.5"
  }
 },
 "nbformat": 4,
 "nbformat_minor": 1
}
