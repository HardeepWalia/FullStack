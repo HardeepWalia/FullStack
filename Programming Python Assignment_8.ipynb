{
 "cells": [
  {
   "cell_type": "code",
   "execution_count": 2,
   "metadata": {},
   "outputs": [
    {
     "data": {
      "text/plain": [
       "[[72, 75, 78], [162, 165, 168], [252, 255, 258]]"
      ]
     },
     "execution_count": 2,
     "metadata": {},
     "output_type": "execute_result"
    }
   ],
   "source": [
    "#Answer :1\n",
    "def AddMatric(**kwargs):\n",
    "    \n",
    "    Mat1 = kwargs[\"Mat1\"]\n",
    "    Mat2= kwargs[\"Mat2\"]\n",
    "    \n",
    "    Result = []\n",
    "\n",
    "    for c in Mat1:\n",
    "        Mat3 = []\n",
    "        for y in range(len(c)):\n",
    "            Sum =0\n",
    "            for n in range(len(Mat2)):\n",
    "                Sum = Sum+(c[n]+Mat2[n][y])\n",
    "            if len(Mat3)<3:\n",
    "                Mat3.append(Sum)\n",
    "               #print(Mat3)\n",
    "        Result.append(Mat3)\n",
    "    return Result\n",
    "AddMatric(Mat1 =[[10,20,30],[40,50,60],[70,80,90]],Mat2 = [[1,2,3],[4,5,6],[7,8,9]])\n",
    "                    "
   ]
  },
  {
   "cell_type": "code",
   "execution_count": 3,
   "metadata": {},
   "outputs": [
    {
     "data": {
      "text/plain": [
       "[[300, 360, 420], [660, 810, 960], [1020, 1260, 1500]]"
      ]
     },
     "execution_count": 3,
     "metadata": {},
     "output_type": "execute_result"
    }
   ],
   "source": [
    "#Answer :2\n",
    "def MulMatric(**kwargs):\n",
    "    \n",
    "    Mat1 = kwargs[\"Mat1\"]\n",
    "    Mat2= kwargs[\"Mat2\"]\n",
    "    \n",
    "    Result = []\n",
    "\n",
    "    for c in Mat1:\n",
    "        Mat3 = []\n",
    "        for y in range(len(c)):\n",
    "            Sum =0\n",
    "            for n in range(len(Mat2)):\n",
    "                Sum = Sum+(c[n]*Mat2[n][y])\n",
    "            if len(Mat3)<3:\n",
    "                Mat3.append(Sum)\n",
    "               #print(Mat3)\n",
    "        Result.append(Mat3)\n",
    "    return Result\n",
    "MulMatric(Mat1 =[[10,20,30],[40,50,60],[70,80,90]],Mat2 = [[1,2,3],[4,5,6],[7,8,9]])"
   ]
  },
  {
   "cell_type": "code",
   "execution_count": 7,
   "metadata": {},
   "outputs": [
    {
     "data": {
      "text/plain": [
       "[[10, 40, 70], [20, 50, 80], [30, 60, 90]]"
      ]
     },
     "execution_count": 7,
     "metadata": {},
     "output_type": "execute_result"
    }
   ],
   "source": [
    "#Answer :3\n",
    "def Trans(**kwargs):\n",
    "    Result = []\n",
    "    Mat1 = kwargs[\"Mat1\"]\n",
    "    for x in range(len(lst)):\n",
    "        Mat3 = []\n",
    "        for y in range(len(lst[x])):\n",
    "            Mat3.append(lst[y][x])\n",
    "        Result.append(Mat3)\n",
    "    return Result\n",
    "\n",
    "Trans(Mat1=[[10,20,30],[40,50,60],[70,80,90]])        "
   ]
  },
  {
   "cell_type": "code",
   "execution_count": 21,
   "metadata": {},
   "outputs": [
    {
     "data": {
      "text/plain": [
       "['Course', 'DataScience', 'Fullstack', 'My', 'is', 'name']"
      ]
     },
     "execution_count": 21,
     "metadata": {},
     "output_type": "execute_result"
    }
   ],
   "source": [
    "#Answer :4\n",
    "def Sortwords(*args):\n",
    "    return sorted(args[0])\n",
    "\n",
    "Sortwords(('My', 'Course', 'name', 'is', 'Fullstack', 'DataScience'))\n"
   ]
  },
  {
   "cell_type": "code",
   "execution_count": 50,
   "metadata": {},
   "outputs": [
    {
     "name": "stdout",
     "output_type": "stream",
     "text": [
      "Enter list of punctuation : '''!()-[]{};:'\"\\,<>./?@#$%^&*_~'''\n",
      "Enter stirng : my name@###@!$% is @@@%&Hard@@eep\n"
     ]
    },
    {
     "data": {
      "text/plain": [
       "'my name is Hardeep'"
      ]
     },
     "execution_count": 50,
     "metadata": {},
     "output_type": "execute_result"
    }
   ],
   "source": [
    "#Answer : 5\n",
    "InputPunc = input(\"Enter list of punctuation : \")\n",
    "Inputstring = input(\"Enter stirng : \")\n",
    "def RmvPunc(**kwargs):\n",
    "    Punc = kwargs[\"Punc\"]\n",
    "    string = kwargs[\"string\"]\n",
    "    Result =\"\"\n",
    "    lst = list(string)\n",
    "    for x in lst:\n",
    "        if x in Punc:\n",
    "            Result = Result+x.replace(x,\"\")\n",
    "        else:\n",
    "            Result = Result+x\n",
    "    return Result\n",
    "RmvPunc(Punc =InputPunc,string =Inputstring)\n",
    "#RmvPunc(Punc='''!()-[]{};:'\"\\,<>./?@#$%^&*_~''',string=\"my name@###@!$% is @@@%&Hard@@eep\")\n",
    "    "
   ]
  },
  {
   "cell_type": "code",
   "execution_count": null,
   "metadata": {},
   "outputs": [],
   "source": []
  },
  {
   "cell_type": "code",
   "execution_count": null,
   "metadata": {},
   "outputs": [],
   "source": []
  }
 ],
 "metadata": {
  "kernelspec": {
   "display_name": "Python 3",
   "language": "python",
   "name": "python3"
  }
 },
 "nbformat": 4,
 "nbformat_minor": 4
}
