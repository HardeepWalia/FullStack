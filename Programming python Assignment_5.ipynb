{
 "cells": [
  {
   "cell_type": "code",
   "execution_count": 9,
   "metadata": {},
   "outputs": [
    {
     "name": "stdout",
     "output_type": "stream",
     "text": [
      "Enter num1 2\n",
      "Enter num2 4\n",
      "LCM :10\n"
     ]
    }
   ],
   "source": [
    "#Answer : 1\n",
    "num1 = int(input(\"Enter num1 \"))\n",
    "num2 = int(input(\"Enter num2 \"))\n",
    "num3 = 0\n",
    "if num1>num2:\n",
    "    num3 = num1\n",
    "else:\n",
    "    num3 = num2\n",
    "\n",
    "for x in range(1,num3):\n",
    "    if(num3%num1==0 and num3%num2):\n",
    "        lc = num3\n",
    "        break\n",
    "    num3 = num3+x\n",
    "print(\"LCM :\"+ str(lc))\n"
   ]
  },
  {
   "cell_type": "code",
   "execution_count": 6,
   "metadata": {},
   "outputs": [
    {
     "name": "stdout",
     "output_type": "stream",
     "text": [
      "Enter num1 2\n",
      "Enter num2 4\n",
      "HCF :2\n"
     ]
    }
   ],
   "source": [
    "#Answer : 2\n",
    "num1 = int(input(\"Enter num1 \"))\n",
    "num2 = int(input(\"Enter num2 \"))\n",
    "num3 = 0\n",
    "if num1>num2:\n",
    "    num3 = num2\n",
    "else:\n",
    "    num3 = num1\n",
    "\n",
    "for x in range(1,num3+1):\n",
    "    if(num3%num1==0 and num3%num2):\n",
    "        lc = num3\n",
    "        \n",
    "    \n",
    "print(\"HCF :\"+ str(lc))"
   ]
  },
  {
   "cell_type": "code",
   "execution_count": 16,
   "metadata": {},
   "outputs": [
    {
     "name": "stdout",
     "output_type": "stream",
     "text": [
      "Enter float value2\n",
      "Binary value is: 0b10\n",
      "Oct value is: 0o2\n",
      "Hex value is: 0x2\n"
     ]
    }
   ],
   "source": [
    "#Answer: 3\n",
    "num = float(input(\"Enter float value\"))\n",
    "print(\"Binary value is: \" +str(bin(int(num))))\n",
    "print(\"Oct value is: \" +str(oct(int(num))))\n",
    "print(\"Hex value is: \" +str(hex(int(num))))"
   ]
  },
  {
   "cell_type": "code",
   "execution_count": 19,
   "metadata": {},
   "outputs": [
    {
     "name": "stdout",
     "output_type": "stream",
     "text": [
      "Enter character value W\n",
      "ASCII value of W is 87\n"
     ]
    }
   ],
   "source": [
    "#Answer :4\n",
    "StrValue = input(\"Enter character value \")\n",
    "print(\"ASCII value of {0} is {1}\".format(StrValue,ord(StrValue)))"
   ]
  },
  {
   "cell_type": "code",
   "execution_count": 1,
   "metadata": {},
   "outputs": [
    {
     "name": "stdout",
     "output_type": "stream",
     "text": [
      "Enter event Divide\n"
     ]
    },
    {
     "data": {
      "text/plain": [
       "'Divide result : 3.0 '"
      ]
     },
     "execution_count": 1,
     "metadata": {},
     "output_type": "execute_result"
    }
   ],
   "source": [
    "#Answer : 5\n",
    "def Cal(*args):\n",
    "    Result = 0\n",
    "    Event = input(\"Enter event \")\n",
    "    if(Event==\"Add\"):\n",
    "        for i in args:\n",
    "            Result = Result+i\n",
    "    elif(Event ==\"Multiply\"):\n",
    "        for i in args:\n",
    "            if(Result ==0):\n",
    "                Result = i\n",
    "            else:\n",
    "                Result = Result*i\n",
    "    elif(Event ==\"Divide\"):\n",
    "        for i in args:\n",
    "            if(Result ==0):\n",
    "                Result = i\n",
    "            else:\n",
    "                if Result<i:\n",
    "                    Result = i/Result\n",
    "                else:\n",
    "                    Result = Result/i\n",
    "    elif(Event ==\"Subtract\"):\n",
    "        for i in args:\n",
    "            if(Result ==0):\n",
    "                Result = i\n",
    "            else:\n",
    "                if Result<i:\n",
    "                    Result = i-Result\n",
    "                else:\n",
    "                    Result = Result-i\n",
    "    return \"{0} result : {1} \".format(Event,str(Result))\n",
    "Cal(2,6)\n"
   ]
  },
  {
   "cell_type": "code",
   "execution_count": null,
   "metadata": {},
   "outputs": [],
   "source": []
  }
 ],
 "metadata": {
  "kernelspec": {
   "display_name": "Python 3",
   "language": "python",
   "name": "python3"
  },
  "language_info": {
   "codemirror_mode": {
    "name": "ipython",
    "version": 3
   },
   "file_extension": ".py",
   "mimetype": "text/x-python",
   "name": "python",
   "nbconvert_exporter": "python",
   "pygments_lexer": "ipython3",
   "version": "3.8.5"
  }
 },
 "nbformat": 4,
 "nbformat_minor": 4
}
