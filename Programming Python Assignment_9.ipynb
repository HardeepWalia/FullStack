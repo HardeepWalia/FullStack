{
 "cells": [
  {
   "cell_type": "code",
   "execution_count": 1,
   "metadata": {},
   "outputs": [
    {
     "name": "stdout",
     "output_type": "stream",
     "text": [
      "Enter Number 123\n",
      "Entered Number is not disarium\n"
     ]
    }
   ],
   "source": [
    "#Answer : 1\n",
    "Number = input(\"Enter Number \")\n",
    "Sum =0\n",
    "lst = list(Number)\n",
    "for x in range(len(lst)):\n",
    "    Sum = Sum + (int(lst[int(x)])**(int(x)+1))\n",
    "if Sum == int(Number):\n",
    "    print(\"Entered Number is disarium\")\n",
    "else:\n",
    "    print(\"Entered Number is not disarium\")\n",
    "\n"
   ]
  },
  {
   "cell_type": "code",
   "execution_count": 2,
   "metadata": {},
   "outputs": [
    {
     "name": "stdout",
     "output_type": "stream",
     "text": [
      "1 is disarium\n",
      "2 is disarium\n",
      "3 is disarium\n",
      "4 is disarium\n",
      "5 is disarium\n",
      "6 is disarium\n",
      "7 is disarium\n",
      "8 is disarium\n",
      "9 is disarium\n",
      "10 is not disarium\n",
      "11 is not disarium\n",
      "12 is not disarium\n",
      "13 is not disarium\n",
      "14 is not disarium\n",
      "15 is not disarium\n",
      "16 is not disarium\n",
      "17 is not disarium\n",
      "18 is not disarium\n",
      "19 is not disarium\n",
      "20 is not disarium\n",
      "21 is not disarium\n",
      "22 is not disarium\n",
      "23 is not disarium\n",
      "24 is not disarium\n",
      "25 is not disarium\n",
      "26 is not disarium\n",
      "27 is not disarium\n",
      "28 is not disarium\n",
      "29 is not disarium\n",
      "30 is not disarium\n",
      "31 is not disarium\n",
      "32 is not disarium\n",
      "33 is not disarium\n",
      "34 is not disarium\n",
      "35 is not disarium\n",
      "36 is not disarium\n",
      "37 is not disarium\n",
      "38 is not disarium\n",
      "39 is not disarium\n",
      "40 is not disarium\n",
      "41 is not disarium\n",
      "42 is not disarium\n",
      "43 is not disarium\n",
      "44 is not disarium\n",
      "45 is not disarium\n",
      "46 is not disarium\n",
      "47 is not disarium\n",
      "48 is not disarium\n",
      "49 is not disarium\n",
      "50 is not disarium\n",
      "51 is not disarium\n",
      "52 is not disarium\n",
      "53 is not disarium\n",
      "54 is not disarium\n",
      "55 is not disarium\n",
      "56 is not disarium\n",
      "57 is not disarium\n",
      "58 is not disarium\n",
      "59 is not disarium\n",
      "60 is not disarium\n",
      "61 is not disarium\n",
      "62 is not disarium\n",
      "63 is not disarium\n",
      "64 is not disarium\n",
      "65 is not disarium\n",
      "66 is not disarium\n",
      "67 is not disarium\n",
      "68 is not disarium\n",
      "69 is not disarium\n",
      "70 is not disarium\n",
      "71 is not disarium\n",
      "72 is not disarium\n",
      "73 is not disarium\n",
      "74 is not disarium\n",
      "75 is not disarium\n",
      "76 is not disarium\n",
      "77 is not disarium\n",
      "78 is not disarium\n",
      "79 is not disarium\n",
      "80 is not disarium\n",
      "81 is not disarium\n",
      "82 is not disarium\n",
      "83 is not disarium\n",
      "84 is not disarium\n",
      "85 is not disarium\n",
      "86 is not disarium\n",
      "87 is not disarium\n",
      "88 is not disarium\n",
      "89 is disarium\n",
      "90 is not disarium\n",
      "91 is not disarium\n",
      "92 is not disarium\n",
      "93 is not disarium\n",
      "94 is not disarium\n",
      "95 is not disarium\n",
      "96 is not disarium\n",
      "97 is not disarium\n",
      "98 is not disarium\n",
      "99 is not disarium\n",
      "100 is not disarium\n"
     ]
    }
   ],
   "source": [
    "#Answer :2\n",
    "def Disarium():\n",
    "    for Number in range(1,101):\n",
    "        Sum =0\n",
    "        lst = list(str(Number))\n",
    "        for x in range(len(lst)):\n",
    "            Sum = Sum + (int(lst[int(x)])**(int(x)+1))\n",
    "        if Sum == int(Number):\n",
    "            print(\"{0} is disarium\".format(Number))\n",
    "        else:\n",
    "            print(\"{0} is not disarium\".format(Number))\n",
    "Disarium()"
   ]
  },
  {
   "cell_type": "code",
   "execution_count": 3,
   "metadata": {},
   "outputs": [
    {
     "name": "stdout",
     "output_type": "stream",
     "text": [
      "Entered Number : 123\n",
      "123 is Un-Happy Number\n"
     ]
    }
   ],
   "source": [
    "# Answer : 3\n",
    "Number = input(\"Entered Number : \")\n",
    "def HappyNumber(Num):\n",
    "    \n",
    "    lst = list(str(Num))\n",
    "    Sum =0\n",
    "    \n",
    "    for x in lst:\n",
    "        Sum = Sum + int(x)**2\n",
    "    if Sum !=1 and Sum!=4:\n",
    "        HappyNumber(Sum)\n",
    "    else:\n",
    "        if Sum==1:\n",
    "            print(\"{0} is Happy Number\".format(Number))\n",
    "\n",
    "        elif Sum ==4:\n",
    "            print(\"{0} is Un-Happy Number\".format(Number))\n",
    "      \n",
    "                \n",
    "HappyNumber(Number)"
   ]
  },
  {
   "cell_type": "code",
   "execution_count": 7,
   "metadata": {},
   "outputs": [
    {
     "name": "stdout",
     "output_type": "stream",
     "text": [
      "1 is Happy Number\n",
      "7 is Happy Number\n",
      "10 is Happy Number\n",
      "13 is Happy Number\n",
      "19 is Happy Number\n",
      "23 is Happy Number\n",
      "28 is Happy Number\n",
      "31 is Happy Number\n",
      "32 is Happy Number\n",
      "44 is Happy Number\n",
      "49 is Happy Number\n",
      "68 is Happy Number\n",
      "70 is Happy Number\n",
      "79 is Happy Number\n",
      "82 is Happy Number\n",
      "86 is Happy Number\n",
      "91 is Happy Number\n",
      "94 is Happy Number\n",
      "97 is Happy Number\n",
      "100 is Happy Number\n"
     ]
    }
   ],
   "source": [
    "#Answer :4\n",
    "Number =0\n",
    "def HappyNumList(Num):\n",
    "    \n",
    "    lst = list(str(Num))\n",
    "    Sum =0\n",
    "    \n",
    "    for x in lst:\n",
    "        Sum = Sum + int(x)**2\n",
    "    if(Sum !=1 and Sum!=4):\n",
    "        HappyNumList(Sum)\n",
    "    elif Sum==1:\n",
    "            print(\"{0} is Happy Number\".format(Number))\n",
    "\n",
    "        \n",
    "for Num in range(1,101):\n",
    "    Number = Num\n",
    "    SubNumber(Num)"
   ]
  },
  {
   "cell_type": "code",
   "execution_count": 11,
   "metadata": {},
   "outputs": [
    {
     "name": "stdout",
     "output_type": "stream",
     "text": [
      "Enter Number : 26\n",
      "26 is not a harshad Number\n"
     ]
    }
   ],
   "source": [
    "# Answer :5\n",
    "Number = input(\"Enter Number : \")\n",
    "lst = list(Number)\n",
    "Sum =0\n",
    "for x in lst:\n",
    "    Sum = Sum + int(x)\n",
    "if int(Number)%Sum ==0:\n",
    "    print(\"{0} is a harshad Number\".format(Number))\n",
    "else:\n",
    "    print(\"{0} is not a harshad Number\".format(Number))\n",
    "    "
   ]
  },
  {
   "cell_type": "code",
   "execution_count": 16,
   "metadata": {},
   "outputs": [
    {
     "name": "stdout",
     "output_type": "stream",
     "text": [
      "List of Pronic Numbers are : \n",
      "2\n",
      "6\n",
      "12\n",
      "20\n",
      "30\n",
      "42\n",
      "56\n",
      "72\n",
      "90\n"
     ]
    }
   ],
   "source": [
    "#Answer : 6\n",
    "Flg =0\n",
    "def PronicList():\n",
    "    print(\"List of Pronic Numbers are : \")\n",
    "    for n in range(1,101):\n",
    "        for x in range(n):\n",
    "            if x*(x+1) == n:\n",
    "                print(n)\n",
    "                break\n",
    "PronicList()\n",
    "    "
   ]
  },
  {
   "cell_type": "code",
   "execution_count": null,
   "metadata": {},
   "outputs": [],
   "source": []
  }
 ],
 "metadata": {
  "kernelspec": {
   "display_name": "Python 3",
   "language": "python",
   "name": "python3"
  },
  "language_info": {
   "codemirror_mode": {
    "name": "ipython",
    "version": 3
   },
   "file_extension": ".py",
   "mimetype": "text/x-python",
   "name": "python",
   "nbconvert_exporter": "python",
   "pygments_lexer": "ipython3",
   "version": "3.8.5"
  }
 },
 "nbformat": 4,
 "nbformat_minor": 4
}
