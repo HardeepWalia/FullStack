{
 "cells": [
  {
   "cell_type": "code",
   "execution_count": 1,
   "metadata": {},
   "outputs": [
    {
     "name": "stdout",
     "output_type": "stream",
     "text": [
      "Hello Python\n"
     ]
    }
   ],
   "source": [
    "#Answer : 1\n",
    "print(\"Hello Python\")"
   ]
  },
  {
   "cell_type": "code",
   "execution_count": 13,
   "metadata": {},
   "outputs": [
    {
     "name": "stdout",
     "output_type": "stream",
     "text": [
      "Enter x value : 10\n",
      "Enter Y value : 10\n",
      "Addtion: 20\n",
      "Addtion: 0\n"
     ]
    }
   ],
   "source": [
    "#Answer: 2\n",
    "#Addition:-\n",
    "x= input(\"Enter x value : \")\n",
    "y= input(\"Enter Y value : \")\n",
    "z=0\n",
    "\n",
    "if x.isnumeric() and y.isnumeric():\n",
    "    z = int(x)+int(y)\n",
    "    print(\"Addtion: \"+ str(z))\n",
    "else:\n",
    "    print(\"Please enter int value\")\n",
    "#Division : \n",
    "\n",
    "if x.isnumeric() and y.isnumeric():\n",
    "    z = int(x)/int(y)\n",
    "    print(\"Addtion: \"+ str(z))\n",
    "else:\n",
    "    print(\"Please enter int value\")"
   ]
  },
  {
   "cell_type": "code",
   "execution_count": 16,
   "metadata": {},
   "outputs": [
    {
     "name": "stdout",
     "output_type": "stream",
     "text": [
      "Enter base 20\n",
      "Enter Height 10\n",
      "Area of Triangle :100.0\n"
     ]
    }
   ],
   "source": [
    "#Answer: 3\n",
    "#Area of triangle:- \n",
    "\n",
    "Base = input(\"Enter base \")\n",
    "Height = input(\"Enter Height \")\n",
    "if Base.isnumeric() and Height.isnumeric():\n",
    "    Area = 0.5 * int(Base)*int(Height)\n",
    "    print(\"Area of Triangle :\" + str(Area))\n",
    "else:\n",
    "    print(\"Please enter int value\")\n"
   ]
  },
  {
   "cell_type": "code",
   "execution_count": 22,
   "metadata": {},
   "outputs": [
    {
     "name": "stdout",
     "output_type": "stream",
     "text": [
      "Enter First Value 50\n",
      "Enter Second Value 20\n",
      "First swap Value : 20\n",
      "Second swap Value : 50\n"
     ]
    }
   ],
   "source": [
    "#Answer : 4\n",
    "FstValu = input(\"Enter First Value \")\n",
    "SecondValu = input(\"Enter Second Value \")\n",
    "\n",
    "if FstValu.isnumeric() and SecondValu.isnumeric():\n",
    "    FstValu = int(SecondValu) + int(FstValu)\n",
    "    SecondValu = int(FstValu) - int(SecondValu)\n",
    "    FstValu = int(FstValu) - int(SecondValu)\n",
    "    print(\"First swap Value : \"+ str(FstValu))\n",
    "    print(\"Second swap Value : \"+ str(SecondValu))\n",
    "else:\n",
    "    print(\"Enter int value\")\n",
    "    "
   ]
  },
  {
   "cell_type": "code",
   "execution_count": 27,
   "metadata": {},
   "outputs": [
    {
     "name": "stdout",
     "output_type": "stream",
     "text": [
      "48\n"
     ]
    }
   ],
   "source": [
    "#Answer : 5\n",
    "import random\n",
    "print(random.randint(0,100))"
   ]
  },
  {
   "cell_type": "code",
   "execution_count": null,
   "metadata": {},
   "outputs": [],
   "source": []
  }
 ],
 "metadata": {
  "kernelspec": {
   "display_name": "Python 3",
   "language": "python",
   "name": "python3"
  },
  "language_info": {
   "codemirror_mode": {
    "name": "ipython",
    "version": 3
   },
   "file_extension": ".py",
   "mimetype": "text/x-python",
   "name": "python",
   "nbconvert_exporter": "python",
   "pygments_lexer": "ipython3",
   "version": "3.8.5"
  }
 },
 "nbformat": 4,
 "nbformat_minor": 4
}
